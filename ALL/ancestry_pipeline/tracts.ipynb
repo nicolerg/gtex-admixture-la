{
 "metadata": {
  "name": "",
  "signature": "sha256:31c34657d521e30cabbaafdb92b6fb0bb85bda89bd6b2bae820b02f3e290382a"
 },
 "nbformat": 3,
 "nbformat_minor": 0,
 "worksheets": [
  {
   "cells": [
    {
     "cell_type": "code",
     "collapsed": false,
     "input": [
      "from multiprocessing import Pool\n",
      "import sys\n",
      "import os\n",
      "sys.path.append('/opt/local/Library/Frameworks/Python.framework/Versions/2.7/lib/python2.7/site-packages/tracts')\n",
      "#os.chdir('/Users/armartin/bustamante/tracts_v0.2')\n",
      "import tracts\n",
      "import cont_pulse_model_unif_params\n",
      "import brewer2mpl\n",
      "import numpy,pylab\n"
     ],
     "language": "python",
     "metadata": {},
     "outputs": [],
     "prompt_number": 1
    },
    {
     "cell_type": "code",
     "collapsed": false,
     "input": [
      "bmap = brewer2mpl.get_map('Set1', 'qualitative', 3)\n",
      "colors=bmap.mpl_colors\n",
      "colordict={'AFR': colors[0], 'EUR': colors[1], 'NAT': colors[2]}\n"
     ],
     "language": "python",
     "metadata": {},
     "outputs": [],
     "prompt_number": 2
    },
    {
     "cell_type": "code",
     "collapsed": false,
     "input": [
      "def plot_tracts(pop_name, ind_names):\n",
      "    os.chdir('/Users/armartin/Dropbox/Manuscripts/Imputation_remix/1kG_phase3_LAI/affy6_window05/' + pop_name + '/bed_files')\n",
      "    \n",
      "    chroms=['%d' % (i,) for i in range(1,23)]\n",
      "    \n",
      "    #load the population\n",
      "    directory = './'\n",
      "    pop=tracts.population(names=ind_names,fname=(directory,\"\",\".bed\"),selectchrom=chroms)\n",
      "    (bins, data)=pop.get_global_tractlengths(npts=50)\n",
      "    \n",
      "    pop.plot_global_tractlengths(colordict={'AFR': colors[0], 'EUR': colors[1], 'NAT': colors[2]}, npts=50, legend=True)\n",
      "    pylab.savefig('../' + pop_name + '_tract_decay.pdf', transparent=True)\n",
      "    pylab.close()\n"
     ],
     "language": "python",
     "metadata": {},
     "outputs": [],
     "prompt_number": 3
    },
    {
     "cell_type": "code",
     "collapsed": false,
     "input": [
      "CLM_names=[\"HG01112\",\"HG01113\",\"HG01119\",\"HG01121\",\"HG01122\",\"HG01124\",\"HG01125\",\"HG01130\",\"HG01131\",\"HG01133\",\"HG01134\",\"HG01136\",\"HG01137\",\"HG01139\",\"HG01140\",\"HG01142\",\"HG01146\",\"HG01148\",\"HG01149\",\"HG01250\",\"HG01251\",\"HG01253\",\"HG01254\",\"HG01256\",\"HG01257\",\"HG01259\",\"HG01260\",\"HG01268\",\"HG01269\",\"HG01271\",\"HG01272\",\"HG01275\",\"HG01277\",\"HG01280\",\"HG01281\",\"HG01284\",\"HG01341\",\"HG01342\",\"HG01344\",\"HG01345\",\"HG01347\",\"HG01348\",\"HG01350\",\"HG01351\",\"HG01353\",\"HG01354\",\"HG01356\",\"HG01357\",\"HG01359\",\"HG01360\",\"HG01362\",\"HG01363\",\"HG01365\",\"HG01366\",\"HG01369\",\"HG01372\",\"HG01374\",\"HG01375\",\"HG01377\",\"HG01378\",\"HG01383\",\"HG01384\",\"HG01389\",\"HG01390\",\"HG01431\",\"HG01432\",\"HG01435\",\"HG01437\",\"HG01438\",\"HG01440\",\"HG01441\",\"HG01443\",\"HG01444\",\"HG01447\",\"HG01449\",\"HG01450\",\"HG01452\",\"HG01453\",\"HG01455\",\"HG01456\",\"HG01459\",\"HG01461\",\"HG01462\",\"HG01464\",\"HG01465\",\"HG01468\",\"HG01471\",\"HG01473\"]\n",
      "MXL_names=[\"NA19648\",\"NA19649\",\"NA19651\",\"NA19652\",\"NA19654\",\"NA19655\",\"NA19657\",\"NA19658\",\"NA19663\",\"NA19664\",\"NA19669\",\"NA19670\",\"NA19674\",\"NA19675\",\"NA19676\",\"NA19681\",\"NA19682\",\"NA19684\",\"NA19685\",\"NA19716\",\"NA19717\",\"NA19719\",\"NA19720\",\"NA19722\",\"NA19723\",\"NA19725\",\"NA19726\",\"NA19728\",\"NA19729\",\"NA19731\",\"NA19732\",\"NA19734\",\"NA19735\",\"NA19737\",\"NA19740\",\"NA19741\",\"NA19746\",\"NA19747\",\"NA19749\",\"NA19750\",\"NA19752\",\"NA19755\",\"NA19756\",\"NA19758\",\"NA19759\",\"NA19761\",\"NA19762\",\"NA19764\",\"NA19770\",\"NA19771\",\"NA19773\",\"NA19774\",\"NA19776\",\"NA19777\",\"NA19779\",\"NA19780\",\"NA19782\",\"NA19783\",\"NA19785\",\"NA19786\",\"NA19788\",\"NA19789\",\"NA19794\",\"NA19795\"]\n",
      "PEL_names=[\"HG01565\",\"HG01566\",\"HG01571\",\"HG01572\",\"HG01577\",\"HG01578\",\"HG01892\",\"HG01893\",\"HG01917\",\"HG01918\",\"HG01920\",\"HG01921\",\"HG01923\",\"HG01924\",\"HG01926\",\"HG01927\",\"HG01932\",\"HG01933\",\"HG01935\",\"HG01936\",\"HG01938\",\"HG01939\",\"HG01941\",\"HG01942\",\"HG01944\",\"HG01945\",\"HG01947\",\"HG01948\",\"HG01950\",\"HG01951\",\"HG01953\",\"HG01954\",\"HG01961\",\"HG01965\",\"HG01967\",\"HG01968\",\"HG01970\",\"HG01971\",\"HG01973\",\"HG01974\",\"HG01976\",\"HG01977\",\"HG01979\",\"HG01980\",\"HG01982\",\"HG01983\",\"HG01991\",\"HG01992\",\"HG01995\",\"HG01997\",\"HG02002\",\"HG02003\",\"HG02006\",\"HG02008\",\"HG02089\",\"HG02090\",\"HG02102\",\"HG02104\",\"HG02105\",\"HG02146\",\"HG02147\",\"HG02150\",\"HG02252\",\"HG02253\",\"HG02259\",\"HG02260\",\"HG02262\",\"HG02265\",\"HG02266\",\"HG02271\",\"HG02272\",\"HG02274\",\"HG02275\",\"HG02277\",\"HG02278\",\"HG02285\",\"HG02286\",\"HG02288\",\"HG02289\",\"HG02291\",\"HG02292\",\"HG02298\",\"HG02299\",\"HG02301\",\"HG02304\",\"HG02312\",\"HG02344\",\"HG02345\",\"HG02347\",\"HG02348\",\"HG02415\",\"HG02425\"]\n",
      "PUR_names=[\"HG00551\",\"HG00553\",\"HG00554\",\"HG00637\",\"HG00638\",\"HG00640\",\"HG00641\",\"HG00731\",\"HG00732\",\"HG00734\",\"HG00736\",\"HG00737\",\"HG00739\",\"HG00740\",\"HG00742\",\"HG00743\",\"HG01047\",\"HG01048\",\"HG01049\",\"HG01051\",\"HG01052\",\"HG01054\",\"HG01055\",\"HG01058\",\"HG01060\",\"HG01061\",\"HG01063\",\"HG01064\",\"HG01066\",\"HG01067\",\"HG01069\",\"HG01070\",\"HG01072\",\"HG01073\",\"HG01075\",\"HG01077\",\"HG01079\",\"HG01080\",\"HG01082\",\"HG01083\",\"HG01085\",\"HG01086\",\"HG01088\",\"HG01089\",\"HG01092\",\"HG01094\",\"HG01095\",\"HG01097\",\"HG01098\",\"HG01101\",\"HG01102\",\"HG01104\",\"HG01105\",\"HG01107\",\"HG01108\",\"HG01110\",\"HG01111\",\"HG01161\",\"HG01162\",\"HG01164\",\"HG01167\",\"HG01168\",\"HG01170\",\"HG01171\",\"HG01173\",\"HG01174\",\"HG01176\",\"HG01177\",\"HG01182\",\"HG01183\",\"HG01187\",\"HG01188\",\"HG01190\",\"HG01191\",\"HG01195\",\"HG01197\",\"HG01198\",\"HG01200\",\"HG01204\",\"HG01205\",\"HG01241\",\"HG01242\",\"HG01244\",\"HG01247\",\"HG01248\",\"HG01286\",\"HG01289\",\"HG01290\",\"HG01302\",\"HG01303\",\"HG01305\",\"HG01308\",\"HG01311\",\"HG01312\",\"HG01322\",\"HG01323\",\"HG01325\",\"HG01326\",\"HG01392\",\"HG01393\",\"HG01395\",\"HG01396\",\"HG01398\",\"HG01402\",\"HG01403\",\"HG01405\",\"HG01408\",\"HG01412\",\"HG01413\",\"HG01414\",\"HG01418\"]\n",
      "ACB_names=[\"HG01879\",\"HG01880\",\"HG01882\",\"HG01883\",\"HG01885\",\"HG01886\",\"HG01889\",\"HG01890\",\"HG01894\",\"HG01896\",\"HG01912\",\"HG01914\",\"HG01915\",\"HG01956\",\"HG01958\",\"HG01985\",\"HG01986\",\"HG01988\",\"HG01989\",\"HG01990\",\"HG02009\",\"HG02010\",\"HG02012\",\"HG02013\",\"HG02014\",\"HG02051\",\"HG02052\",\"HG02053\",\"HG02054\",\"HG02095\",\"HG02107\",\"HG02108\",\"HG02111\",\"HG02143\",\"HG02144\",\"HG02255\",\"HG02256\",\"HG02281\",\"HG02282\",\"HG02283\",\"HG02284\",\"HG02307\",\"HG02308\",\"HG02309\",\"HG02314\",\"HG02315\",\"HG02317\",\"HG02318\",\"HG02322\",\"HG02323\",\"HG02330\",\"HG02332\",\"HG02334\",\"HG02337\",\"HG02339\",\"HG02343\",\"HG02419\",\"HG02420\",\"HG02427\",\"HG02429\",\"HG02433\",\"HG02436\",\"HG02439\",\"HG02440\",\"HG02442\",\"HG02445\",\"HG02449\",\"HG02450\",\"HG02455\",\"HG02470\",\"HG02471\",\"HG02476\",\"HG02477\",\"HG02478\",\"HG02479\",\"HG02481\",\"HG02484\",\"HG02485\",\"HG02489\",\"HG02496\",\"HG02497\",\"HG02501\",\"HG02502\",\"HG02505\",\"HG02508\",\"HG02511\",\"HG02536\",\"HG02537\",\"HG02541\",\"HG02545\",\"HG02546\",\"HG02549\",\"HG02554\",\"HG02555\",\"HG02557\",\"HG02558\",\"HG02576\",\"HG02577\",\"HG02580\"]\n",
      "ASW_names=[\"NA19625\",\"NA19700\",\"NA19701\",\"NA19703\",\"NA19704\",\"NA19707\",\"NA19711\",\"NA19712\",\"NA19713\",\"NA19818\",\"NA19819\",\"NA19834\",\"NA19835\",\"NA19900\",\"NA19901\",\"NA19904\",\"NA19908\",\"NA19909\",\"NA19914\",\"NA19916\",\"NA19917\",\"NA19920\",\"NA19921\",\"NA19922\",\"NA19923\",\"NA19982\",\"NA19984\",\"NA19985\",\"NA20126\",\"NA20127\",\"NA20274\",\"NA20276\",\"NA20278\",\"NA20281\",\"NA20282\",\"NA20287\",\"NA20289\",\"NA20291\",\"NA20294\",\"NA20296\",\"NA20298\",\"NA20299\",\"NA20301\",\"NA20312\",\"NA20314\",\"NA20317\",\"NA20322\",\"NA20332\",\"NA20334\",\"NA20336\",\"NA20339\",\"NA20340\",\"NA20341\",\"NA20342\",\"NA20344\",\"NA20346\",\"NA20348\",\"NA20349\",\"NA20351\",\"NA20356\",\"NA20357\",\"NA20359\",\"NA20364\",\"NA20412\"]\n"
     ],
     "language": "python",
     "metadata": {},
     "outputs": [],
     "prompt_number": 4
    },
    {
     "cell_type": "code",
     "collapsed": false,
     "input": [
      "plot_tracts('CLM', CLM_names)\n",
      "plot_tracts('MXL', MXL_names)\n",
      "plot_tracts('PEL', PEL_names)\n",
      "plot_tracts('PUR', PUR_names)\n",
      "plot_tracts('ACB', ACB_names)\n",
      "plot_tracts('ASW', ASW_names)\n"
     ],
     "language": "python",
     "metadata": {},
     "outputs": [],
     "prompt_number": 5
    },
    {
     "cell_type": "code",
     "collapsed": false,
     "input": [
      "def randomize(arr,scale=2):\n",
      "    #takes an array and multiplies every element by a factor between 0 and 2, uniformly. caps at 1.\n",
      "    return map(lambda i: min(i,1),scale*numpy.random.random(arr.shape)*arr)\n",
      "\n",
      "\n",
      "def totan(val):\n",
      "    return numpy.tan(numpy.pi*(val-0.5))\n",
      "\n",
      "labels=['AFR', 'EUR', 'NAT']\n"
     ],
     "language": "python",
     "metadata": {},
     "outputs": [],
     "prompt_number": 6
    },
    {
     "cell_type": "code",
     "collapsed": false,
     "input": [
      "args=0\n",
      "tries=3\n",
      "popnum=args\n",
      "pop_name='PEL'\n",
      "ind_names=PEL_names\n",
      "chroms=['%d' % (i,) for i in range(1,23)]\n",
      "os.chdir('/Users/armartin/Dropbox/Manuscripts/Imputation_remix/1kG_phase3_LAI/affy6_window05/' + pop_name + '/bed_files')\n",
      "directory = './'\n",
      "pop=tracts.population(names=ind_names,fname=(directory,\"\",\".bed\"),selectchrom=chroms)\n",
      "(bins, data)=pop.get_global_tractlengths(npts=50)\n"
     ],
     "language": "python",
     "metadata": {},
     "outputs": [],
     "prompt_number": 7
    },
    {
     "cell_type": "code",
     "collapsed": false,
     "input": [
      "#choose order of populations and sort data accordingly \n",
      "data=[data[poplab] for poplab in labels]\n",
      "\n",
      "bypopfrac=[[] for i in range(len(labels))]\n",
      "for ind in pop.indivs:\n",
      "\t#a list of tracts with labels and names\n",
      "\ttractsl=ind.applychrom(tracts.chrom.tractlengths)\n",
      "\t#a flattened list of tracts with labels and names\n",
      "\tflattracts=[numpy.sum([item[1] for chromo in tractsl for sublist in chromo for item in sublist if item[0]==label]) for label in labels]\n",
      "\tfor i in range(len(labels)):\n",
      "\t    bypopfrac[i].append(flattracts[i]/ numpy.sum(flattracts))\n",
      "\n",
      "props=map(numpy.mean,bypopfrac)\n",
      "print props\n"
     ],
     "language": "python",
     "metadata": {},
     "outputs": [
      {
       "output_type": "stream",
       "stream": "stdout",
       "text": [
        "[0.030879169258429758, 0.22744883545757408, 0.74167199528399619]\n"
       ]
      }
     ],
     "prompt_number": 8
    },
    {
     "cell_type": "code",
     "collapsed": false,
     "input": [
      "#demographic models\n",
      "func=cont_pulse_model_unif_params.ppp_ppp_fix\n",
      "bound=cont_pulse_model_unif_params.outofbounds_ppp_ppp_fix\n",
      "Ls=pop.Ls\n",
      "nind=pop.nind\n",
      "cutoff=2\n",
      "bounds=[(0,1),(0,1),(0,1),(0,1),(0,1)]\n"
     ],
     "language": "python",
     "metadata": {},
     "outputs": [],
     "prompt_number": 9
    },
    {
     "cell_type": "code",
     "collapsed": false,
     "input": [
      "startparams=numpy.array([ 0.312107   ,  0.0274064  ,  0.135095   ,  0.0233021  ,  0.0741973 ])\n",
      "my_mig = func(startparams,props)\n",
      "print my_mig\n"
     ],
     "language": "python",
     "metadata": {},
     "outputs": [
      {
       "output_type": "stream",
       "stream": "stdout",
       "text": [
        "[[ 0.          0.          0.        ]\n",
        " [ 0.          0.          0.        ]\n",
        " [ 0.          0.          0.        ]\n",
        " [ 0.          0.          0.        ]\n",
        " [ 0.          0.          0.        ]\n",
        " [ 0.          0.          0.        ]\n",
        " [ 0.01352151  0.15392191  0.49990909]\n",
        " [ 0.00991465  0.13159212  0.72307271]\n",
        " [ 0.          0.          0.        ]\n",
        " [ 0.          0.          0.        ]\n",
        " [ 0.          0.          0.        ]\n",
        " [ 0.          0.          0.        ]\n",
        " [ 0.          0.          0.        ]\n",
        " [ 0.          0.          0.        ]\n",
        " [ 0.15308848  0.32396868  0.01344284]\n",
        " [ 0.312107    0.6604866   0.0274064 ]]\n"
       ]
      }
     ],
     "prompt_number": 10
    },
    {
     "cell_type": "code",
     "collapsed": false,
     "input": [
      "bestmod=tracts.demographic_model(func(startparams,props))\n",
      "bestlik=bestmod.loglik(bins,Ls,data,nind,cutoff=2)\n"
     ],
     "language": "python",
     "metadata": {},
     "outputs": [],
     "prompt_number": 11
    },
    {
     "cell_type": "code",
     "collapsed": false,
     "input": [
      "for tri in range(tries):\n",
      "    #if tri!=0:\n",
      "    params=randomize(startparams)\n",
      "    while params[0]<params[1]+.01:\n",
      "        params=randomize(startparams)\n",
      "        \n",
      "    xopt=tracts.optimize_cob_fracs2(params,bins,Ls,data,nind,func,props,outofbounds_fun=bound,cutoff=cutoff,epsilon=1e-2)\n",
      "    if bound(xopt,props)>=0:\n",
      "        coin=tracts.demographic_model(func(xopt,props))\n",
      "        lik=coin.loglik(bins,Ls,data,nind,cutoff=2)\n",
      "        print \"likelihood in\", pop_name, \"is\", lik\n",
      "        if lik>bestlik:\n",
      "            bestlik=lik\n",
      "            bestmod=coin\n"
     ],
     "language": "python",
     "metadata": {},
     "outputs": [
      {
       "output_type": "stream",
       "stream": "stdout",
       "text": [
        "[[ 0.  0.  0.]\n",
        " [ 0.  0.  0.]\n",
        " [ 0.  0.  0.]\n",
        " [ 0.  0.  0.]\n",
        " [ 0.  0.  0.]\n",
        " [ 0.  0.  0.]\n",
        " [ 0.  0.  0.]\n",
        " [ 0.  0.  0.]\n",
        " [ 0.  0.  0.]\n",
        " [ 0.  0.  0.]\n",
        " [ 0.  0.  0.]\n",
        " [ 0.  0.  0.]\n",
        " [ 0.  0.  0.]]\n",
        "founding migration should sum up to 1. Now:\n",
        "[[ 0.  0.  0.]\n",
        " [ 0.  0.  0.]\n",
        " [ 0.  0.  0.]\n",
        " [ 0.  0.  0.]\n",
        " [ 0.  0.  0.]\n",
        " [ 0.  0.  0.]\n",
        " [ 0.  0.  0.]\n",
        " [ 0.  0.  0.]\n",
        " [ 0.  0.  0.]\n",
        " [ 0.  0.  0.]\n",
        " [ 0.  0.  0.]\n",
        " [ 0.  0.  0.]\n",
        " [ 0.  0.  0.]]\n",
        "founding migration should sum up to 1. Now:\n",
        "[[ 0.  0.  0.]\n",
        " [ 0.  0.  0.]\n",
        " [ 0.  0.  0.]\n",
        " [ 0.  0.  0.]\n",
        " [ 0.  0.  0.]\n",
        " [ 0.  0.  0.]\n",
        " [ 0.  0.  0.]\n",
        " [ 0.  0.  0.]\n",
        " [ 0.  0.  0.]\n",
        " [ 0.  0.  0.]\n",
        " [ 0.  0.  0.]\n",
        " [ 0.  0.  0.]\n",
        " [ 0.  0.  0.]]\n",
        "founding migration should sum up to 1. Now:\n",
        "1       , -1e+16      , array([ 0.0952196  ,  0.0132632  ,  0.106279   ,  0.0357015  ,  0.115239   ])\n",
        "[[ 0.  0.  0.]\n",
        " [ 0.  0.  0.]\n",
        " [ 0.  0.  0.]\n",
        " [ 0.  0.  0.]\n",
        " [ 0.  0.  0.]\n",
        " [ 0.  0.  0.]\n",
        " [ 0.  0.  0.]\n",
        " [ 0.  0.  0.]\n",
        " [ 0.  0.  0.]\n",
        " [ 0.  0.  0.]\n",
        " [ 0.  0.  0.]\n",
        " [ 0.  0.  0.]\n",
        " [ 0.  0.  0.]]\n",
        "founding migration should sum up to 1. Now:\n",
        "[[ 0.  0.  0.]\n",
        " [ 0.  0.  0.]\n",
        " [ 0.  0.  0.]\n",
        " [ 0.  0.  0.]\n",
        " [ 0.  0.  0.]\n",
        " [ 0.  0.  0.]\n",
        " [ 0.  0.  0.]\n",
        " [ 0.  0.  0.]\n",
        " [ 0.  0.  0.]\n",
        " [ 0.  0.  0.]\n",
        " [ 0.  0.  0.]\n",
        " [ 0.  0.  0.]\n",
        " [ 0.  0.  0.]]\n",
        "founding migration should sum up to 1. Now:\n",
        "[[ 0.  0.  0.]\n",
        " [ 0.  0.  0.]\n",
        " [ 0.  0.  0.]\n",
        " [ 0.  0.  0.]\n",
        " [ 0.  0.  0.]\n",
        " [ 0.  0.  0.]\n",
        " [ 0.  0.  0.]\n",
        " [ 0.  0.  0.]\n",
        " [ 0.  0.  0.]\n",
        " [ 0.  0.  0.]\n",
        " [ 0.  0.  0.]\n",
        " [ 0.  0.  0.]\n",
        " [ 0.  0.  0.]]\n",
        "founding migration should sum up to 1. Now:\n",
        "[[ 0.  0.  0.]\n",
        " [ 0.  0.  0.]\n",
        " [ 0.  0.  0.]\n",
        " [ 0.  0.  0.]\n",
        " [ 0.  0.  0.]\n",
        " [ 0.  0.  0.]\n",
        " [ 0.  0.  0.]\n",
        " [ 0.  0.  0.]\n",
        " [ 0.  0.  0.]\n",
        " [ 0.  0.  0.]\n",
        " [ 0.  0.  0.]\n",
        " [ 0.  0.  0.]\n",
        " [ 0.  0.  0.]]\n",
        "founding migration should sum up to 1. Now:\n",
        "2       , -1e+16      , array([ 0.10522    ,  0.0132632  ,  0.106279   ,  0.0357015  ,  0.115239   ])\n",
        "[[ 0.  0.  0.]\n",
        " [ 0.  0.  0.]\n",
        " [ 0.  0.  0.]\n",
        " [ 0.  0.  0.]\n",
        " [ 0.  0.  0.]\n",
        " [ 0.  0.  0.]\n",
        " [ 0.  0.  0.]\n",
        " [ 0.  0.  0.]\n",
        " [ 0.  0.  0.]\n",
        " [ 0.  0.  0.]\n",
        " [ 0.  0.  0.]\n",
        " [ 0.  0.  0.]\n",
        " [ 0.  0.  0.]]\n",
        "founding migration should sum up to 1. Now:\n",
        "[[ 0.  0.  0.]\n",
        " [ 0.  0.  0.]\n",
        " [ 0.  0.  0.]\n",
        " [ 0.  0.  0.]\n",
        " [ 0.  0.  0.]\n",
        " [ 0.  0.  0.]\n",
        " [ 0.  0.  0.]\n",
        " [ 0.  0.  0.]\n",
        " [ 0.  0.  0.]\n",
        " [ 0.  0.  0.]\n",
        " [ 0.  0.  0.]\n",
        " [ 0.  0.  0.]\n",
        " [ 0.  0.  0.]]"
       ]
      },
      {
       "output_type": "stream",
       "stream": "stdout",
       "text": [
        "\n",
        "founding migration should sum up to 1. Now:\n",
        "[[ 0.  0.  0.]\n",
        " [ 0.  0.  0.]\n",
        " [ 0.  0.  0.]\n",
        " [ 0.  0.  0.]\n",
        " [ 0.  0.  0.]\n",
        " [ 0.  0.  0.]\n",
        " [ 0.  0.  0.]\n",
        " [ 0.  0.  0.]\n",
        " [ 0.  0.  0.]\n",
        " [ 0.  0.  0.]\n",
        " [ 0.  0.  0.]\n",
        " [ 0.  0.  0.]\n",
        " [ 0.  0.  0.]]\n",
        "founding migration should sum up to 1. Now:\n",
        "[[ 0.  0.  0.]\n",
        " [ 0.  0.  0.]\n",
        " [ 0.  0.  0.]\n",
        " [ 0.  0.  0.]\n",
        " [ 0.  0.  0.]\n",
        " [ 0.  0.  0.]\n",
        " [ 0.  0.  0.]\n",
        " [ 0.  0.  0.]\n",
        " [ 0.  0.  0.]\n",
        " [ 0.  0.  0.]\n",
        " [ 0.  0.  0.]\n",
        " [ 0.  0.  0.]\n",
        " [ 0.  0.  0.]]\n",
        "founding migration should sum up to 1. Now:\n",
        "3       , -1e+16      , array([ 0.0952196  ,  0.0232632  ,  0.106279   ,  0.0357015  ,  0.115239   ])\n",
        "[[ 0.  0.  0.]\n",
        " [ 0.  0.  0.]\n",
        " [ 0.  0.  0.]\n",
        " [ 0.  0.  0.]\n",
        " [ 0.  0.  0.]\n",
        " [ 0.  0.  0.]\n",
        " [ 0.  0.  0.]\n",
        " [ 0.  0.  0.]\n",
        " [ 0.  0.  0.]\n",
        " [ 0.  0.  0.]\n",
        " [ 0.  0.  0.]\n",
        " [ 0.  0.  0.]\n",
        " [ 0.  0.  0.]]\n",
        "founding migration should sum up to 1. Now:\n"
       ]
      },
      {
       "output_type": "stream",
       "stream": "stdout",
       "text": [
        "4       , -2040.29    , array([ 0.0952196  ,  0.0132632  ,  0.116279   ,  0.0357015  ,  0.115239   ])\n",
        "migration rates should be between 0 and 1\n",
        "migration rates should be between 0 and 1\n",
        "migration rates should be between 0 and 1\n",
        "5       , -2.03621e+14, array([ 0.0952196  ,  0.0132632  ,  0.116279   ,  0.0457015  ,  0.115239   ])\n",
        "migration rates should be between 0 and 1\n",
        "[[ 0.  0.  0.]\n",
        " [ 0.  0.  0.]\n",
        " [ 0.  0.  0.]\n",
        " [ 0.  0.  0.]\n",
        " [ 0.  0.  0.]\n",
        " [ 0.  0.  0.]\n",
        " [ 0.  0.  0.]\n",
        " [ 0.  0.  0.]\n",
        " [ 0.  0.  0.]\n",
        " [ 0.  0.  0.]\n",
        " [ 0.  0.  0.]\n",
        " [ 0.  0.  0.]\n",
        " [ 0.  0.  0.]\n",
        " [ 0.  0.  0.]]\n",
        "founding migration should sum up to 1. Now:\n",
        "[[ 0.  0.  0.]\n",
        " [ 0.  0.  0.]\n",
        " [ 0.  0.  0.]\n",
        " [ 0.  0.  0.]\n",
        " [ 0.  0.  0.]\n",
        " [ 0.  0.  0.]\n",
        " [ 0.  0.  0.]\n",
        " [ 0.  0.  0.]\n",
        " [ 0.  0.  0.]\n",
        " [ 0.  0.  0.]\n",
        " [ 0.  0.  0.]\n",
        " [ 0.  0.  0.]\n",
        " [ 0.  0.  0.]\n",
        " [ 0.  0.  0.]]\n",
        "founding migration should sum up to 1. Now:\n",
        "[[ 0.  0.  0.]\n",
        " [ 0.  0.  0.]\n",
        " [ 0.  0.  0.]\n",
        " [ 0.  0.  0.]\n",
        " [ 0.  0.  0.]\n",
        " [ 0.  0.  0.]\n",
        " [ 0.  0.  0.]\n",
        " [ 0.  0.  0.]\n",
        " [ 0.  0.  0.]\n",
        " [ 0.  0.  0.]\n",
        " [ 0.  0.  0.]\n",
        " [ 0.  0.  0.]\n",
        " [ 0.  0.  0.]\n",
        " [ 0.  0.  0.]]\n",
        "founding migration should sum up to 1. Now:\n",
        "6       , -1e+16      , array([ 0.0952196  ,  0.0132632  ,  0.116279   ,  0.0357015  ,  0.125239   ])\n",
        "[[ 0.  0.  0.]\n",
        " [ 0.  0.  0.]\n",
        " [ 0.  0.  0.]\n",
        " [ 0.  0.  0.]\n",
        " [ 0.  0.  0.]\n",
        " [ 0.  0.  0.]\n",
        " [ 0.  0.  0.]\n",
        " [ 0.  0.  0.]\n",
        " [ 0.  0.  0.]\n",
        " [ 0.  0.  0.]\n",
        " [ 0.  0.  0.]\n",
        " [ 0.  0.  0.]\n",
        " [ 0.  0.  0.]\n",
        " [ 0.  0.  0.]]"
       ]
      },
      {
       "output_type": "stream",
       "stream": "stdout",
       "text": [
        "\n",
        "founding migration should sum up to 1. Now:\n"
       ]
      },
      {
       "output_type": "stream",
       "stream": "stdout",
       "text": [
        "7       , -1598.63    , array([ 0.0952196  ,  0.0132632  ,  0.12335    ,  0.0355575  ,  0.108168   ])\n"
       ]
      },
      {
       "output_type": "stream",
       "stream": "stdout",
       "text": [
        "8       , -1511.28    , array([ 0.0920574  ,  0.010101   ,  0.121768   ,  0.0355253  ,  0.106587   ])\n"
       ]
      },
      {
       "output_type": "stream",
       "stream": "stdout",
       "text": [
        "9       , -1510.3     , array([ 0.0938252  ,  0.00833327 ,  0.121768   ,  0.0355253  ,  0.106587   ])\n"
       ]
      },
      {
       "output_type": "stream",
       "stream": "stdout",
       "text": [
        "10      , -1309.05    , array([ 0.0954065  ,  0.00991454 ,  0.118606   ,  0.0354609  ,  0.103426   ])\n"
       ]
      },
      {
       "output_type": "stream",
       "stream": "stdout",
       "text": [
        "11      , -1342.54    , array([ 0.0954065  ,  0.00991454 ,  0.118606   ,  0.0329614  ,  0.103477   ])\n",
        "migration rates should be between 0 and 1\n",
        "migration rates should be between 0 and 1\n",
        "migration rates should be between 0 and 1\n",
        "12      , -9.3318e+13 , array([ 0.0955603  ,  0.0100247  ,  0.118625   ,  0.0364131  ,  0.0985214  ])\n",
        "migration rates should be between 0 and 1\n"
       ]
      },
      {
       "output_type": "stream",
       "stream": "stdout",
       "text": [
        "13      , -1528.74    , array([ 0.0954065  ,  0.00991454 ,  0.11507    ,  0.0355329  ,  0.106961   ])\n"
       ]
      },
      {
       "output_type": "stream",
       "stream": "stdout",
       "text": [
        "14      , -1362.95    , array([ 0.0969876  ,  0.0114956  ,  0.119396   ,  0.035477   ,  0.104217   ])\n"
       ]
      },
      {
       "output_type": "stream",
       "stream": "stdout",
       "text": [
        "15      , -1308.89    , array([ 0.0962864  ,  0.00902683 ,  0.118613   ,  0.0354611  ,  0.103434   ])\n"
       ]
      },
      {
       "output_type": "stream",
       "stream": "stdout",
       "text": [
        "16      , -1415.11    , array([ 0.0954785  ,  0.00825353 ,  0.120195   ,  0.0354933  ,  0.105014   ])\n"
       ]
      },
      {
       "output_type": "stream",
       "stream": "stdout",
       "text": [
        "17      , -1235.68    , array([ 0.0962891  ,  0.00901803 ,  0.118574   ,  0.0356435  ,  0.102452   ])\n"
       ]
      },
      {
       "output_type": "stream",
       "stream": "stdout",
       "text": [
        "18      , -1165.93    , array([ 0.0962916  ,  0.00901013 ,  0.11864    ,  0.0358054  ,  0.101467   ])\n",
        "migration rates should be between 0 and 1\n",
        "migration rates should be between 0 and 1\n",
        "migration rates should be between 0 and 1\n",
        "19      , -4.11173e+14, array([ 0.0963271  ,  0.00898065 ,  0.118634   ,  0.0359769  ,  0.100483   ])\n",
        "migration rates should be between 0 and 1\n"
       ]
      },
      {
       "output_type": "stream",
       "stream": "stdout",
       "text": [
        "20      , -1164.13    , array([ 0.0963911  ,  0.00915962 ,  0.118174   ,  0.0358048  ,  0.101435   ])\n",
        "migration rates should be between 0 and 1\n",
        "migration rates should be between 0 and 1\n",
        "migration rates should be between 0 and 1\n",
        "21      , -4.19542e+14, array([ 0.0964235  ,  0.00912542 ,  0.118183   ,  0.0359764  ,  0.100451   ])\n",
        "migration rates should be between 0 and 1\n"
       ]
      },
      {
       "output_type": "stream",
       "stream": "stdout",
       "text": [
        "22      , -1164.07    , array([ 0.096059   ,  0.00883019 ,  0.117998   ,  0.0358048  ,  0.101434   ])\n"
       ]
      },
      {
       "output_type": "stream",
       "stream": "stdout",
       "text": [
        "23      , -1198.53    , array([ 0.096671   ,  0.00825976 ,  0.117908   ,  0.0358158  ,  0.101974   ])\n"
       ]
      },
      {
       "output_type": "stream",
       "stream": "stdout",
       "text": [
        "24      , -1162.34    , array([ 0.0960171  ,  0.00887302 ,  0.117996   ,  0.0362943  ,  0.101516   ])\n"
       ]
      },
      {
       "output_type": "stream",
       "stream": "stdout",
       "text": [
        "25      , -1221.69    , array([ 0.095646   ,  0.00925223 ,  0.117982   ,  0.0360906  ,  0.102339   ])\n",
        "likelihood in"
       ]
      },
      {
       "output_type": "stream",
       "stream": "stdout",
       "text": [
        " PEL is -1221.69105036\n"
       ]
      },
      {
       "output_type": "stream",
       "stream": "stdout",
       "text": [
        "26      , -4830.74    , array([ 0.0639147  ,  0.0476011  ,  0.137577   ,  0.0204931  ,  0.0311304  ])\n"
       ]
      },
      {
       "output_type": "stream",
       "stream": "stdout",
       "text": [
        "27      , -5055.08    , array([ 0.0739147  ,  0.0476011  ,  0.137577   ,  0.0204931  ,  0.0311304  ])\n"
       ]
      },
      {
       "output_type": "stream",
       "stream": "stdout",
       "text": [
        "28      , -4643.89    , array([ 0.0639147  ,  0.0576011  ,  0.137577   ,  0.0204931  ,  0.0311304  ])\n"
       ]
      },
      {
       "output_type": "stream",
       "stream": "stdout",
       "text": [
        "29      , -4583.28    , array([ 0.0639147  ,  0.0576011  ,  0.147577   ,  0.0204931  ,  0.0311304  ])\n"
       ]
      },
      {
       "output_type": "stream",
       "stream": "stdout",
       "text": [
        "30      , -7258.61    , array([ 0.0639147  ,  0.0576011  ,  0.147577   ,  0.0304931  ,  0.0311304  ])\n"
       ]
      },
      {
       "output_type": "stream",
       "stream": "stdout",
       "text": [
        "31      , -2274.19    , array([ 0.0639147  ,  0.0576011  ,  0.147577   ,  0.0204931  ,  0.0411304  ])\n",
        "migration rates should be between 0 and 1\n",
        "migration rates should be between 0 and 1\n",
        "migration rates should be between 0 and 1\n",
        "32      , -4.96731e+14, array([ 0.0632821  ,  0.058128   ,  0.147748   ,  0.0129497  ,  0.0476412  ])\n",
        "migration rates should be between 0 and 1\n"
       ]
      },
      {
       "output_type": "stream",
       "stream": "stdout",
       "text": [
        "33      , -2828.98    , array([ 0.0639147  ,  0.0576011  ,  0.147577   ,  0.0254931  ,  0.0411304  ])\n"
       ]
      },
      {
       "output_type": "stream",
       "stream": "stdout",
       "text": [
        "34      , -2236.74    , array([ 0.0614147  ,  0.0576011  ,  0.147577   ,  0.0204931  ,  0.0411304  ])\n",
        "migration rates should be between 0 and 1\n",
        "migration rates should be between 0 and 1\n",
        "migration rates should be between 0 and 1\n",
        "35      , -1.42683e+13, array([ 0.0611237  ,  0.0579641  ,  0.147695   ,  0.0183375  ,  0.0456163  ])\n",
        "migration rates should be between 0 and 1\n"
       ]
      },
      {
       "output_type": "stream",
       "stream": "stdout",
       "text": [
        "36      , -2306.55    , array([ 0.0614147  ,  0.060084   ,  0.147783   ,  0.0204931  ,  0.0409241  ])\n"
       ]
      },
      {
       "output_type": "stream",
       "stream": "stdout",
       "text": [
        "37      , -2772.68    , array([ 0.0614147  ,  0.0570175  ,  0.151088   ,  0.0204931  ,  0.0376191  ])\n"
       ]
      },
      {
       "output_type": "stream",
       "stream": "stdout",
       "text": [
        "38      , -2795.11    , array([ 0.0614147  ,  0.0576011  ,  0.144042   ,  0.0204931  ,  0.0375949  ])\n"
       ]
      },
      {
       "output_type": "stream",
       "stream": "stdout",
       "text": [
        "39      , -2492.99    , array([ 0.0614147  ,  0.0576011  ,  0.147577   ,  0.0229931  ,  0.0411304  ])\n"
       ]
      },
      {
       "output_type": "stream",
       "stream": "stdout",
       "text": [
        "40      , -2590.72    , array([ 0.0614147  ,  0.0574844  ,  0.148279   ,  0.0204931  ,  0.0404282  ])\n"
       ]
      },
      {
       "output_type": "stream",
       "stream": "stdout",
       "text": [
        "41      , -2404.11    , array([ 0.0614147  ,  0.0576011  ,  0.147223   ,  0.0204931  ,  0.0407769  ])\n"
       ]
      },
      {
       "output_type": "stream",
       "stream": "stdout",
       "text": [
        "42      , -1876.02    , array([ 0.0613847  ,  0.0576284  ,  0.147549   ,  0.0202876  ,  0.0421078  ])\n"
       ]
      },
      {
       "output_type": "stream",
       "stream": "stdout",
       "text": [
        "43      , -1650.54    , array([ 0.0613458  ,  0.0576047  ,  0.147866   ,  0.020022   ,  0.043017   ])\n"
       ]
      },
      {
       "output_type": "stream",
       "stream": "stdout",
       "text": [
        "44      , -1531.33    , array([ 0.0613152  ,  0.0576619  ,  0.147174   ,  0.0198125  ,  0.0437046  ])\n"
       ]
      },
      {
       "output_type": "stream",
       "stream": "stdout",
       "text": [
        "45      , -1423.32    , array([ 0.0610306  ,  0.057366   ,  0.147359   ,  0.0192046  ,  0.0443585  ])\n"
       ]
      },
      {
       "output_type": "stream",
       "stream": "stdout",
       "text": [
        "46      , -1384.34    , array([ 0.0608539  ,  0.0572066  ,  0.147492   ,  0.0197621  ,  0.0451425  ])\n"
       ]
      },
      {
       "output_type": "stream",
       "stream": "stdout",
       "text": [
        "47      , -1341.45    , array([ 0.0607102  ,  0.0580665  ,  0.147676   ,  0.0195201  ,  0.0455269  ])\n"
       ]
      },
      {
       "output_type": "stream",
       "stream": "stdout",
       "text": [
        "48      , -1337.78    , array([ 0.0611796  ,  0.0580533  ,  0.147788   ,  0.0194698  ,  0.0456467  ])\n"
       ]
      },
      {
       "output_type": "stream",
       "stream": "stdout",
       "text": [
        "49      , -1283.72    , array([ 0.0610706  ,  0.0579924  ,  0.14743    ,  0.0189472  ,  0.0464101  ])\n"
       ]
      },
      {
       "output_type": "stream",
       "stream": "stdout",
       "text": [
        "50      , -1248.79    , array([ 0.0607916  ,  0.0578443  ,  0.148091   ,  0.0184953  ,  0.046919   ])\n"
       ]
      },
      {
       "output_type": "stream",
       "stream": "stdout",
       "text": [
        "51      , -1226.03    , array([ 0.0606682  ,  0.05812    ,  0.148054   ,  0.0182988  ,  0.0478511  ])\n",
        "migration rates should be between 0 and 1\n",
        "migration rates should be between 0 and 1\n",
        "migration rates should be between 0 and 1\n",
        "52      , -9.81463e+12, array([ 0.0606768  ,  0.0583404  ,  0.14796    ,  0.0173294  ,  0.0477982  ])\n",
        "migration rates should be between 0 and 1\n"
       ]
      },
      {
       "output_type": "stream",
       "stream": "stdout",
       "text": [
        "53      , -1228.97    , array([ 0.061143   ,  0.0580347  ,  0.148149   ,  0.0182696  ,  0.0479368  ])\n"
       ]
      },
      {
       "output_type": "stream",
       "stream": "stdout",
       "text": [
        "54      , -1253.17    , array([ 0.0605297  ,  0.0574088  ,  0.148007   ,  0.018908   ,  0.0481698  ])\n"
       ]
      },
      {
       "output_type": "stream",
       "stream": "stdout",
       "text": [
        "55      , -1247.5     , array([ 0.0606871  ,  0.0586374  ,  0.148614   ,  0.0189456  ,  0.0478591  ])\n",
        "likelihood in"
       ]
      },
      {
       "output_type": "stream",
       "stream": "stdout",
       "text": [
        " PEL is -1247.49537788\n"
       ]
      },
      {
       "output_type": "stream",
       "stream": "stdout",
       "text": [
        "56      , -4164.78    , array([ 0.231035   ,  0.0293046  ,  0.0769174  ,  0.00419665 ,  0.0365629  ])\n"
       ]
      },
      {
       "output_type": "stream",
       "stream": "stdout",
       "text": [
        "57      , -4203.81    , array([ 0.241035   ,  0.0293046  ,  0.0769174  ,  0.00419665 ,  0.0365629  ])\n"
       ]
      },
      {
       "output_type": "stream",
       "stream": "stdout",
       "text": [
        "58      , -4095.19    , array([ 0.231035   ,  0.0393046  ,  0.0769174  ,  0.00419665 ,  0.0365629  ])\n"
       ]
      },
      {
       "output_type": "stream",
       "stream": "stdout",
       "text": [
        "59      , -3966.35    , array([ 0.231035   ,  0.0393046  ,  0.0869174  ,  0.00419665 ,  0.0365629  ])\n"
       ]
      },
      {
       "output_type": "stream",
       "stream": "stdout",
       "text": [
        "60      , -4381.96    , array([ 0.231035   ,  0.0393046  ,  0.0869174  ,  0.0141966  ,  0.0365629  ])\n"
       ]
      },
      {
       "output_type": "stream",
       "stream": "stdout",
       "text": [
        "61      , -2023.33    , array([ 0.231035   ,  0.0393046  ,  0.0869174  ,  0.00419665 ,  0.0465629  ])\n"
       ]
      },
      {
       "output_type": "stream",
       "stream": "stdout",
       "text": [
        "62      , -1025.81    , array([ 0.230839   ,  0.0396538  ,  0.087564   ,  0.00211103 ,  0.0563133  ])\n",
        "migration rates should be between 0 and 1\n",
        "migration rates should be between 0 and 1\n",
        "migration rates should be between 0 and 1\n",
        "63      , -5.35179e+13, array([ 0.23068    ,  0.0399371  ,  0.0938597  , -0.00535179 ,  0.0584499  ])\n",
        "migration rates should be between 0 and 1\n"
       ]
      },
      {
       "output_type": "stream",
       "stream": "stdout",
       "text": [
        "64      , -1025.02    , array([ 0.225842   ,  0.0396538  ,  0.0876377  ,  0.00225846 ,  0.0562396  ])\n"
       ]
      },
      {
       "output_type": "stream",
       "stream": "stdout",
       "text": [
        "65      , -941.28     , array([ 0.226058   ,  0.0396538  ,  0.0854546  ,  0.0117675  ,  0.0584227  ])\n"
       ]
      },
      {
       "output_type": "stream",
       "stream": "stdout",
       "text": [
        "66      , -946.618    , array([ 0.226058   ,  0.0446482  ,  0.0852869  ,  0.0117675  ,  0.0582549  ])\n"
       ]
      },
      {
       "output_type": "stream",
       "stream": "stdout",
       "text": [
        "67      , -947.619    , array([ 0.225845   ,  0.0393326  ,  0.0757242  ,  0.00949997 ,  0.0585901  ])\n"
       ]
      },
      {
       "output_type": "stream",
       "stream": "stdout",
       "text": [
        "68      , -689.876    , array([ 0.225962   ,  0.0397756  ,  0.0857182  ,  0.0111335  ,  0.0633729  ])\n"
       ]
      },
      {
       "output_type": "stream",
       "stream": "stdout",
       "text": [
        "69      , -546.205    , array([ 0.225869   ,  0.039844   ,  0.0859206  ,  0.0109093  ,  0.0683624  ])\n"
       ]
      },
      {
       "output_type": "stream",
       "stream": "stdout",
       "text": [
        "70      , -502.15     , array([ 0.225874   ,  0.037109   ,  0.0871092  ,  0.0128774  ,  0.0718601  ])\n"
       ]
      },
      {
       "output_type": "stream",
       "stream": "stdout",
       "text": [
        "71      , -494.954    , array([ 0.225764   ,  0.0359395  ,  0.0825033  ,  0.012414   ,  0.0733402  ])\n"
       ]
      },
      {
       "output_type": "stream",
       "stream": "stdout",
       "text": [
        "72      , -494.82     , array([ 0.223265   ,  0.0359366  ,  0.0825434  ,  0.0124732  ,  0.0732947  ])\n"
       ]
      },
      {
       "output_type": "stream",
       "stream": "stdout",
       "text": [
        "73      , -501.159    , array([ 0.223147   ,  0.0346818  ,  0.0837967  ,  0.00821787 ,  0.0752268  ])\n"
       ]
      },
      {
       "output_type": "stream",
       "stream": "stdout",
       "text": [
        "74      , -492.01     , array([ 0.223237   ,  0.037925   ,  0.0825158  ,  0.012566   ,  0.0748067  ])\n"
       ]
      },
      {
       "output_type": "stream",
       "stream": "stdout",
       "text": [
        "75      , -503.844    , array([ 0.223228   ,  0.0359631  ,  0.0829559  ,  0.0156259  ,  0.0782118  ])\n"
       ]
      },
      {
       "output_type": "stream",
       "stream": "stdout",
       "text": [
        "76      , -492.975    , array([ 0.22318    ,  0.0395162  ,  0.0808297  ,  0.0122052  ,  0.0739454  ])\n"
       ]
      },
      {
       "output_type": "stream",
       "stream": "stdout",
       "text": [
        "77      , -491.428    , array([ 0.223277   ,  0.0383492  ,  0.0830363  ,  0.0134316  ,  0.0742061  ])\n"
       ]
      },
      {
       "output_type": "stream",
       "stream": "stdout",
       "text": [
        "78      , -493.667    , array([ 0.223246   ,  0.0394172  ,  0.0847944  ,  0.0120365  ,  0.0739394  ])\n"
       ]
      },
      {
       "output_type": "stream",
       "stream": "stdout",
       "text": [
        "79      , -490.061    , array([ 0.223255   ,  0.0385164  ,  0.0829867  ,  0.0141673  ,  0.0748602  ])\n"
       ]
      },
      {
       "output_type": "stream",
       "stream": "stdout",
       "text": [
        "80      , -489.304    , array([ 0.222769   ,  0.0384492  ,  0.0829208  ,  0.0149425  ,  0.0752528  ])\n"
       ]
      },
      {
       "output_type": "stream",
       "stream": "stdout",
       "text": [
        "81      , -489.08     , array([ 0.22335    ,  0.0384271  ,  0.0828425  ,  0.0156388  ,  0.0756655  ])\n"
       ]
      },
      {
       "output_type": "stream",
       "stream": "stdout",
       "text": [
        "82      , -490.881    , array([ 0.22315    ,  0.0390533  ,  0.0833441  ,  0.0156588  ,  0.0762275  ])\n"
       ]
      },
      {
       "output_type": "stream",
       "stream": "stdout",
       "text": [
        "83      , -488.394    , array([ 0.223351   ,  0.0387804  ,  0.0827158  ,  0.0158042  ,  0.0753795  ])\n"
       ]
      },
      {
       "output_type": "stream",
       "stream": "stdout",
       "text": [
        "84      , -488.851    , array([ 0.223265   ,  0.0389505  ,  0.0817881  ,  0.015646   ,  0.0756587  ])\n"
       ]
      },
      {
       "output_type": "stream",
       "stream": "stdout",
       "text": [
        "85      , -487.922    , array([ 0.223244   ,  0.0385228  ,  0.0825296  ,  0.0164064  ,  0.074655   ])\n"
       ]
      },
      {
       "output_type": "stream",
       "stream": "stdout",
       "text": [
        "86      , -489.368    , array([ 0.224036   ,  0.0386458  ,  0.0824786  ,  0.0161283  ,  0.0741281  ])\n"
       ]
      },
      {
       "output_type": "stream",
       "stream": "stdout",
       "text": [
        "87      , -487.353    , array([ 0.222724   ,  0.0391     ,  0.0827816  ,  0.0169816  ,  0.074698   ])\n"
       ]
      },
      {
       "output_type": "stream",
       "stream": "stdout",
       "text": [
        "88      , -486.997    , array([ 0.222409   ,  0.0392815  ,  0.0818769  ,  0.0171109  ,  0.0748791  ])\n"
       ]
      },
      {
       "output_type": "stream",
       "stream": "stdout",
       "text": [
        "89      , -487.58     , array([ 0.222122   ,  0.0393494  ,  0.0818951  ,  0.016794   ,  0.0746293  ])\n"
       ]
      },
      {
       "output_type": "stream",
       "stream": "stdout",
       "text": [
        "90      , -486.222    , array([ 0.222133   ,  0.0387988  ,  0.0818738  ,  0.0178002  ,  0.0753431  ])\n"
       ]
      },
      {
       "output_type": "stream",
       "stream": "stdout",
       "text": [
        "91      , -485.539    , array([ 0.22244    ,  0.0389578  ,  0.0816884  ,  0.0186934  ,  0.0755627  ])\n"
       ]
      },
      {
       "output_type": "stream",
       "stream": "stdout",
       "text": [
        "92      , -487.814    , array([ 0.222472   ,  0.0392481  ,  0.0817719  ,  0.0187217  ,  0.0765151  ])\n"
       ]
      },
      {
       "output_type": "stream",
       "stream": "stdout",
       "text": [
        "93      , -485.672    , array([ 0.222445   ,  0.0388774  ,  0.0812109  ,  0.01859    ,  0.0756321  ])\n"
       ]
      },
      {
       "output_type": "stream",
       "stream": "stdout",
       "text": [
        "94      , -485.393    , array([ 0.222891   ,  0.0382569  ,  0.0817536  ,  0.0189948  ,  0.0751043  ])\n"
       ]
      },
      {
       "output_type": "stream",
       "stream": "stdout",
       "text": [
        "95      , -485.194    , array([ 0.222491   ,  0.0380184  ,  0.0817664  ,  0.0191578  ,  0.0751845  ])\n"
       ]
      },
      {
       "output_type": "stream",
       "stream": "stdout",
       "text": [
        "96      , -486.597    , array([ 0.222148   ,  0.0383836  ,  0.0815815  ,  0.019562   ,  0.0744417  ])\n"
       ]
      },
      {
       "output_type": "stream",
       "stream": "stdout",
       "text": [
        "97      , -485.544    , array([ 0.222717   ,  0.0376524  ,  0.082044   ,  0.0194182  ,  0.076003   ])\n",
        "likelihood in"
       ]
      },
      {
       "output_type": "stream",
       "stream": "stdout",
       "text": [
        " PEL is -485.543518596\n"
       ]
      },
      {
       "output_type": "stream",
       "stream": "stderr",
       "text": [
        "/opt/local/Library/Frameworks/Python.framework/Versions/2.7/lib/python2.7/site-packages/scipy/optimize/minpack.py:236: RuntimeWarning: The iteration is not making good progress, as measured by the \n",
        "  improvement from the last ten iterations.\n",
        "  warnings.warn(msg, RuntimeWarning)\n"
       ]
      }
     ],
     "prompt_number": 12
    },
    {
     "cell_type": "code",
     "collapsed": false,
     "input": [
      "bestlik"
     ],
     "language": "python",
     "metadata": {},
     "outputs": [
      {
       "metadata": {},
       "output_type": "pyout",
       "prompt_number": 13,
       "text": [
        "-485.54351859553225"
       ]
      }
     ],
     "prompt_number": 13
    },
    {
     "cell_type": "code",
     "collapsed": false,
     "input": [
      "expects=[]\n",
      "for popnum in range(len(data)):\n",
      "    expects.append(bestmod.expectperbin(Ls,popnum,bins))\n",
      "\n",
      "expects=nind*numpy.array(expects)\n",
      "\n",
      "outdir=\"/Users/armartin/Dropbox/Manuscripts/Imputation_remix/1kG_phase3_LAI/affy6_window05/PEL/tracts/\"\n"
     ],
     "language": "python",
     "metadata": {},
     "outputs": [],
     "prompt_number": 14
    },
    {
     "cell_type": "code",
     "collapsed": false,
     "input": [
      "fbins=open(outdir+\"PEL_tracts_bins\",'w')\n",
      "fbins.write(\"\\t\".join(map(str,bins)))\n",
      "fbins.close()\n",
      "fdat=open(outdir+\"PEL_tracts_dat\",'w')\n",
      "for popnum in range(len(data)):\n",
      "    fdat.write(\"\\t\".join(map(str,data[popnum]))+\"\\n\")\n"
     ],
     "language": "python",
     "metadata": {},
     "outputs": [],
     "prompt_number": 15
    },
    {
     "cell_type": "code",
     "collapsed": false,
     "input": [
      "fdat.close()\n",
      "fmig=open(outdir+\"PEL_tracts_mig\",'w')\n",
      "for line in bestmod.mig:\n",
      "    fmig.write(\"\\t\".join(map(str,line))+\"\\n\")\n",
      "fmig.close()\n",
      "fpred=open(outdir+\"PEL_tracts_pred\",'w')\n",
      "for popnum in range(len(data)):\n",
      "    fpred.write(\"\\t\".join(map(str,pop.nind*numpy.array(bestmod.expectperbin(Ls,popnum,bins))))+\"\\n\")\n",
      "fpred.close()\n",
      "\n",
      "bestmod.plot_model_data(Ls,bins,data,pop,nind,colordict)\n"
     ],
     "language": "python",
     "metadata": {},
     "outputs": [
      {
       "metadata": {},
       "output_type": "display_data",
       "png": "[encoded data removed]",
       "text": [
        "<matplotlib.figure.Figure at 0x107733ed0>"
       ]
      }
     ],
     "prompt_number": 16
    },
    {
     "cell_type": "code",
     "collapsed": false,
     "input": [],
     "language": "python",
     "metadata": {},
     "outputs": []
    },
    {
     "cell_type": "code",
     "collapsed": false,
     "input": [],
     "language": "python",
     "metadata": {},
     "outputs": []
    },
    {
     "cell_type": "code",
     "collapsed": false,
     "input": [],
     "language": "python",
     "metadata": {},
     "outputs": []
    },
    {
     "cell_type": "code",
     "collapsed": false,
     "input": [],
     "language": "python",
     "metadata": {},
     "outputs": []
    },
    {
     "cell_type": "code",
     "collapsed": false,
     "input": [],
     "language": "python",
     "metadata": {},
     "outputs": []
    }
   ],
   "metadata": {}
  }
 ]
}